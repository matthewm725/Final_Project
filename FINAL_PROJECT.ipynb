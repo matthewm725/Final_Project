{
 "cells": [
  {
   "cell_type": "code",
   "execution_count": 65,
   "metadata": {},
   "outputs": [
    {
     "data": {
      "text/html": [
       "\n",
       "<script src='//code.jquery.com/jquery-3.3.1.min.js'></script>\n",
       "<script>\n",
       "code_show=true;\n",
       "function code_toggle() {\n",
       "if (code_show){\n",
       "$('div.input').hide();\n",
       "$('div .jp-CodeCell .jp-Cell-inputWrapper').hide();\n",
       "} else {\n",
       "$('div.input').show();\n",
       "$('div .jp-CodeCell .jp-Cell-inputWrapper').show();\n",
       "}\n",
       "code_show = !code_show\n",
       "}\n",
       "$( document ).ready(code_toggle);\n",
       "</script>\n",
       "<form action=\"javascript:code_toggle()\"><input type=\"submit\" value=\"Code on/off\"></form>"
      ],
      "text/plain": [
       "<IPython.core.display.HTML object>"
      ]
     },
     "execution_count": 65,
     "metadata": {},
     "output_type": "execute_result"
    }
   ],
   "source": [
    "from IPython.display import HTML\n",
    "\n",
    "HTML('''\n",
    "<script src='//code.jquery.com/jquery-3.3.1.min.js'></script>\n",
    "<script>\n",
    "code_show=true;\n",
    "function code_toggle() {\n",
    "if (code_show){\n",
    "$('div.input').hide();\n",
    "$('div .jp-CodeCell .jp-Cell-inputWrapper').hide();\n",
    "} else {\n",
    "$('div.input').show();\n",
    "$('div .jp-CodeCell .jp-Cell-inputWrapper').show();\n",
    "}\n",
    "code_show = !code_show\n",
    "}\n",
    "$( document ).ready(code_toggle);\n",
    "</script>\n",
    "<form action=\"javascript:code_toggle()\"><input type=\"submit\" value=\"Code on/off\"></form>''')"
   ]
  },
  {
   "cell_type": "code",
   "execution_count": 25,
   "metadata": {},
   "outputs": [],
   "source": [
    "import pandas as pd\n",
    "import numpy as np\n",
    "import matplotlib.pyplot as plt\n",
    "from scipy import stats\n",
    "from sklearn.cluster import KMeans\n",
    "\n"
   ]
  },
  {
   "cell_type": "markdown",
   "metadata": {},
   "source": [
    "# Final Project: Loan Data Analysis"
   ]
  },
  {
   "cell_type": "markdown",
   "metadata": {},
   "source": [
    "Matthew Mandeli"
   ]
  },
  {
   "cell_type": "markdown",
   "metadata": {},
   "source": [
    "# Abstract "
   ]
  },
  {
   "cell_type": "markdown",
   "metadata": {},
   "source": [
    "The following paper focuses on the Lending Club Loan dataset. The analysis is focusing on different measures of income (individual and average household), loan amounts, and loan grade. The three key questions answered are the following. Is there a significant difference in average income between the two most prominent loan grade groups (A and B)? What are distinct groups in terms of income level and how much one is asking to borrow for the purpose of paying medical expenses? Is there a significant difference in the mean household income for the two most prominent loan grade groups (A and B)? In order to test answer these questions two sample t-tests were implemented with an alpha level of 0.05 as well as two dimensional k-means clustering. There was found to be a significant difference in the mean income between loan groups A and B with a p-value of 0.0000. The k-means clustering produced three distinct groups with higher centroids in each group as the income level increased. There was found to be a significant difference in the mean household income between loan groups A and B with a p-value of 0.0066. Follow up analysis should be conducted to better understand how other variables such as credit score impact loan grade."
   ]
  },
  {
   "cell_type": "markdown",
   "metadata": {},
   "source": [
    "# Introduction and Background"
   ]
  },
  {
   "cell_type": "markdown",
   "metadata": {},
   "source": [
    "It has been historically believed that banks give loans based on high credit ratings as it is advantageous to both parties involved (the lender and borrower). However, this seemed to not be the case building up to the financial crisis of 2008. This crisis was mainly caused by lending and borrowing issues. Specifically it was caused mortgages being issued to individuals who could not afford them. There has been back and forth regarding who is to blame regarding this decision is congress to blame for telling banks to give people on the cusp these mortgages or are the banks to blame? Regardless lending and borrowing is a vital component of our economy. The purpose of this analysis is to better understand patterns lending and borrowing and to explore commonly held notion such as the greater one’s income is the higher their loan is graded and in turn the lower interest rate they receive. This analysis is based on a dataset retrieved on Kaggle entitled Lending Club Loan Data. This is a comprehensive dataset that contains the complete loan data on all loans from 2007 to 2018 with a total of approximately 890,000 observations. This 2GB CSV file contains information on each loan request including but not limited to loan amount, interest rate, loan grade, home ownership status, annual income, issue date, and loan status. The primary objective of this analysis is see how income impacts loans. This analysis will be focuses on loan grade, individual income, household income, and loan amount. There are two type of loan grades: broad loan grades (A, etc.) and subgrades (A1,A2,A3 etc.). This analysis will be using the broad loan grades.\n",
    "\n",
    "In order to have a better understanding of this pertinent topic the analysis will be broken down into three specific research questions. The first is regarding income and loan grade, is there a significant difference in average income between the two most prominent loan grade groups (A and B)? The second question is regarding income level and how much one is requesting to borrow, here we are wondering what are distinct groups in terms of income level and how much one is asking to borrow for the purpose of paying medical expenses? The third question is regarding the median household income and loan grade, is there a significant difference in the mean household income for the two most prominent loan grade groups (A and B)? \n"
   ]
  },
  {
   "cell_type": "markdown",
   "metadata": {},
   "source": [
    "# Methods"
   ]
  },
  {
   "cell_type": "markdown",
   "metadata": {},
   "source": [
    "The analysis was conducted in Python using a Jupyter Notebook. The following python libraries were utilized: pandas, numpy, matplotlib, and scipy. In order to begin this analysis various columns where removed in order to reduce the size of the file. To further cut down this data set the issue date was filtered to only observations in December of 2018. This filtered dataset consisted of approximately 30,000 observations. On this cleaned dataset the remainder of the analysis was performed. In order observe if there a significant difference in average income between the two most common loan grade groups a Welch’s  t-test was run. This test is a two sample T-Test for means for unequal variances test. The loan groups A and B are used as they have the highest number of loan classifications, n=11,722 and n=11,516, respectively. For the second question evaluating income level vs how much one is requesting to borrow for the purpose of paying medical expenses, unsupervised learning is used. The K-means clustering procedure was implemented in order to partition the data into a 3 groups. The two features that are focused on annual income and loan amount. The other features evaluated (credit limit, interest rate, and number of open accounts) did not show any evidence of meaningful clustering. \n",
    "In order to answer the third question an external dataset was brought in from Kaggle containing average income information in 2018 for states by county. That dataset was then grouped by state and the mean for each state was computed. This new dataset was then merged with the lending club dataset based on state. Then was then broken down by loan grade and average household income. Loan groups A and B were again selected as the two largest groups (n=11,722 and n=11,516, respectively). A two-sample t-test was run with equal variances. \n",
    "\n",
    "All statistical tests are two-sided with a 0.05 level of significance. \n"
   ]
  },
  {
   "cell_type": "markdown",
   "metadata": {},
   "source": [
    "# Results"
   ]
  },
  {
   "cell_type": "markdown",
   "metadata": {},
   "source": [
    "The mean income for grade A loans is 89,677.09 USD with a standard deviation of 114,530.76 USD for a sample size of 11,722. The mean income for grade B loans is 83,893.87 USD with a standard deviation of 74,255.21 USD for a sample size of 11,516. This is summarized in table 1 and figure 1. The assumption of normality holds for each of the two groups because of the large sample size and the application of the Central Limit Theorem (CLT). The two sample t-statistic for the difference in means between loan group A and B is 4.5751. There was found to be a significant difference in the mean income between loan groups A and B with a p-value of 0.0000. This can be seen in the summary output table 2."
   ]
  },
  {
   "cell_type": "markdown",
   "metadata": {},
   "source": [
    "Table 1. Table of Annual Income by Loan Grade"
   ]
  },
  {
   "cell_type": "code",
   "execution_count": 26,
   "metadata": {
    "scrolled": true
   },
   "outputs": [
    {
     "data": {
      "text/html": [
       "<div>\n",
       "<style scoped>\n",
       "    .dataframe tbody tr th:only-of-type {\n",
       "        vertical-align: middle;\n",
       "    }\n",
       "\n",
       "    .dataframe tbody tr th {\n",
       "        vertical-align: top;\n",
       "    }\n",
       "\n",
       "    .dataframe thead th {\n",
       "        text-align: right;\n",
       "    }\n",
       "</style>\n",
       "<table border=\"1\" class=\"dataframe\">\n",
       "  <thead>\n",
       "    <tr style=\"text-align: right;\">\n",
       "      <th></th>\n",
       "      <th>count</th>\n",
       "      <th>mean</th>\n",
       "      <th>std</th>\n",
       "      <th>min</th>\n",
       "      <th>25%</th>\n",
       "      <th>50%</th>\n",
       "      <th>75%</th>\n",
       "      <th>max</th>\n",
       "    </tr>\n",
       "    <tr>\n",
       "      <th>grade</th>\n",
       "      <th></th>\n",
       "      <th></th>\n",
       "      <th></th>\n",
       "      <th></th>\n",
       "      <th></th>\n",
       "      <th></th>\n",
       "      <th></th>\n",
       "      <th></th>\n",
       "    </tr>\n",
       "  </thead>\n",
       "  <tbody>\n",
       "    <tr>\n",
       "      <td>A</td>\n",
       "      <td>11722.0</td>\n",
       "      <td>89677.085671</td>\n",
       "      <td>114530.764563</td>\n",
       "      <td>0.0</td>\n",
       "      <td>50000.0</td>\n",
       "      <td>74202.5</td>\n",
       "      <td>106000.0</td>\n",
       "      <td>9000000.0</td>\n",
       "    </tr>\n",
       "    <tr>\n",
       "      <td>B</td>\n",
       "      <td>11516.0</td>\n",
       "      <td>83893.866323</td>\n",
       "      <td>74255.209060</td>\n",
       "      <td>0.0</td>\n",
       "      <td>50000.0</td>\n",
       "      <td>70000.0</td>\n",
       "      <td>100000.0</td>\n",
       "      <td>3330432.0</td>\n",
       "    </tr>\n",
       "    <tr>\n",
       "      <td>C</td>\n",
       "      <td>9707.0</td>\n",
       "      <td>78657.384407</td>\n",
       "      <td>57900.285181</td>\n",
       "      <td>0.0</td>\n",
       "      <td>45000.0</td>\n",
       "      <td>65000.0</td>\n",
       "      <td>95000.0</td>\n",
       "      <td>1600000.0</td>\n",
       "    </tr>\n",
       "    <tr>\n",
       "      <td>D</td>\n",
       "      <td>5152.0</td>\n",
       "      <td>78096.571339</td>\n",
       "      <td>110789.045239</td>\n",
       "      <td>0.0</td>\n",
       "      <td>45000.0</td>\n",
       "      <td>65000.0</td>\n",
       "      <td>92000.0</td>\n",
       "      <td>6863991.0</td>\n",
       "    </tr>\n",
       "    <tr>\n",
       "      <td>E</td>\n",
       "      <td>2009.0</td>\n",
       "      <td>73385.156456</td>\n",
       "      <td>55831.126545</td>\n",
       "      <td>0.0</td>\n",
       "      <td>41000.0</td>\n",
       "      <td>60000.0</td>\n",
       "      <td>90000.0</td>\n",
       "      <td>800000.0</td>\n",
       "    </tr>\n",
       "    <tr>\n",
       "      <td>F</td>\n",
       "      <td>14.0</td>\n",
       "      <td>99654.305714</td>\n",
       "      <td>157519.443103</td>\n",
       "      <td>10000.0</td>\n",
       "      <td>40050.0</td>\n",
       "      <td>50000.0</td>\n",
       "      <td>81000.0</td>\n",
       "      <td>634592.0</td>\n",
       "    </tr>\n",
       "    <tr>\n",
       "      <td>G</td>\n",
       "      <td>14.0</td>\n",
       "      <td>38154.285714</td>\n",
       "      <td>19842.804437</td>\n",
       "      <td>19380.0</td>\n",
       "      <td>30000.0</td>\n",
       "      <td>34500.0</td>\n",
       "      <td>35750.0</td>\n",
       "      <td>98780.0</td>\n",
       "    </tr>\n",
       "  </tbody>\n",
       "</table>\n",
       "</div>"
      ],
      "text/plain": [
       "         count          mean            std      min      25%      50%  \\\n",
       "grade                                                                    \n",
       "A      11722.0  89677.085671  114530.764563      0.0  50000.0  74202.5   \n",
       "B      11516.0  83893.866323   74255.209060      0.0  50000.0  70000.0   \n",
       "C       9707.0  78657.384407   57900.285181      0.0  45000.0  65000.0   \n",
       "D       5152.0  78096.571339  110789.045239      0.0  45000.0  65000.0   \n",
       "E       2009.0  73385.156456   55831.126545      0.0  41000.0  60000.0   \n",
       "F         14.0  99654.305714  157519.443103  10000.0  40050.0  50000.0   \n",
       "G         14.0  38154.285714   19842.804437  19380.0  30000.0  34500.0   \n",
       "\n",
       "            75%        max  \n",
       "grade                       \n",
       "A      106000.0  9000000.0  \n",
       "B      100000.0  3330432.0  \n",
       "C       95000.0  1600000.0  \n",
       "D       92000.0  6863991.0  \n",
       "E       90000.0   800000.0  \n",
       "F       81000.0   634592.0  \n",
       "G       35750.0    98780.0  "
      ]
     },
     "execution_count": 26,
     "metadata": {},
     "output_type": "execute_result"
    }
   ],
   "source": [
    "##Table of Annual Income by Loan Grade\n",
    "data18.groupby('grade')['annual_inc'].describe()"
   ]
  },
  {
   "cell_type": "markdown",
   "metadata": {},
   "source": [
    "Figure 1. Bar Plot Annual Income by Loan Grade"
   ]
  },
  {
   "cell_type": "code",
   "execution_count": 59,
   "metadata": {},
   "outputs": [
    {
     "data": {
      "text/plain": [
       "Text(0.5, 1.0, 'Annual Income by Loan Grade')"
      ]
     },
     "execution_count": 59,
     "metadata": {},
     "output_type": "execute_result"
    },
    {
     "data": {
      "image/png": "[encoded data removed]",
      "text/plain": [
       "<Figure size 432x288 with 1 Axes>"
      ]
     },
     "metadata": {
      "needs_background": "light"
     },
     "output_type": "display_data"
    }
   ],
   "source": [
    "##Bar Plot Annual Income by Loan Grade\n",
    "data18.groupby('grade').annual_inc.mean().plot(kind='bar')\n",
    "plt.xlabel('Loan Grade')\n",
    "plt.ylabel('Annual Income')\n",
    "plt.title('Annual Income by Loan Grade')"
   ]
  },
  {
   "cell_type": "code",
   "execution_count": 28,
   "metadata": {},
   "outputs": [],
   "source": [
    "##Filtering dataset into two sub-datasets with only grade A in the first and grade B in the second\n",
    "A = data18[(data18['grade'] == 'A')]\n",
    "B = data18[(data18['grade'] == 'B')]"
   ]
  },
  {
   "cell_type": "markdown",
   "metadata": {},
   "source": [
    "Table 2. Summary Output T-test"
   ]
  },
  {
   "cell_type": "code",
   "execution_count": 29,
   "metadata": {},
   "outputs": [
    {
     "name": "stdout",
     "output_type": "stream",
     "text": [
      "\n",
      " Welch's t-test= 4.5751 \n",
      " p-value = 0.0000 \n",
      " Welch-Satterthwaite Degrees of Freedom= 20143.2394\n"
     ]
    }
   ],
   "source": [
    "##Two sample T-test of means for unequal variances \n",
    "\n",
    "def welch_ttest(x, y): \n",
    "    ## Welch-Satterthwaite degrees of freedom\n",
    "    dof = (x.var()/x.size + y.var()/y.size)**2 / ((x.var()/x.size)**2 / (x.size-1) + (y.var()/y.size)**2 / (y.size-1))\n",
    "   \n",
    "    t, p = stats.ttest_ind(x, y, equal_var = False)\n",
    "    \n",
    "    print(\"\\n\",\n",
    "          f\"Welch's t-test= {t:.4f}\", \"\\n\",\n",
    "          f\"p-value = {p:.4f}\", \"\\n\",\n",
    "          f\"Welch-Satterthwaite Degrees of Freedom= {dof:.4f}\")\n",
    "\n",
    "welch_ttest(A['annual_inc'], B['annual_inc'])"
   ]
  },
  {
   "cell_type": "markdown",
   "metadata": {},
   "source": [
    "The first cluster where the annual income ranges from 0 USD to approximately 75,000 USD results in a mean loan amount of approximately 7,500 USD and has a very right skewed distribution for the loan amounts. The second cluster where the annual income ranges from greater than approximately 75,000 USD to approximately 165,000 USD results in a mean loan amount of approximately 11,000 USD and has a right skewed distribution for the loan amounts not as severe as the first cluster. The third cluster where the annual income ranges from approximately greater than 165,000 USD to approximately 375,000 USD results in a mean loan amount of approximately 19,000 USD and has an approximately normal distribution for the loan amounts. The cluser groups and there centriods can be seen in Figure 4. The intermediate producedure can be seen in figures 2 and 3.\n",
    "The other features evaluated (credit limit, interest rate, and number of open accounts) did not show any evidence of meaningful clustering.\n"
   ]
  },
  {
   "cell_type": "markdown",
   "metadata": {},
   "source": [
    "Figure 2. Plotting of Annual Income vs Loan Amount"
   ]
  },
  {
   "cell_type": "code",
   "execution_count": 30,
   "metadata": {},
   "outputs": [
    {
     "data": {
      "image/png": "[encoded data removed]",
      "text/plain": [
       "<Figure size 432x288 with 1 Axes>"
      ]
     },
     "metadata": {
      "needs_background": "light"
     },
     "output_type": "display_data"
    }
   ],
   "source": [
    "##Plotting of Annual Income vs Loan Amount\n",
    "X=data20[[\"loan_amnt\",\"annual_inc\"]]\n",
    "plt.scatter(X[\"annual_inc\"],X[\"loan_amnt\"], c=\"black\")\n",
    "plt.xlabel('Annual Income')\n",
    "plt.ylabel('Loan Amount')\n",
    "plt.title('Annual Income vs Loan Amount')\n",
    "plt.xlim(0, 500000)\n",
    "plt.show()"
   ]
  },
  {
   "cell_type": "markdown",
   "metadata": {},
   "source": [
    "Figure 3. Setting cluster number K=3"
   ]
  },
  {
   "cell_type": "code",
   "execution_count": 31,
   "metadata": {
    "scrolled": false
   },
   "outputs": [
    {
     "data": {
      "image/png": "[encoded data removed]",
      "text/plain": [
       "<Figure size 432x288 with 1 Axes>"
      ]
     },
     "metadata": {
      "needs_background": "light"
     },
     "output_type": "display_data"
    }
   ],
   "source": [
    "##Setting cluster number K=3\n",
    "K=3\n",
    "Centroids = (X.sample(n=K))\n",
    "plt.scatter(X[\"annual_inc\"],X[\"loan_amnt\"], c=\"black\")\n",
    "plt.scatter(Centroids[\"annual_inc\"],Centroids[\"loan_amnt\"],c='red')\n",
    "plt.xlabel('Annual Income')\n",
    "plt.ylabel('Loan Amount')\n",
    "plt.title('Annual Income vs Loan Amount')\n",
    "plt.xlim(0, 500000)\n",
    "plt.show()"
   ]
  },
  {
   "cell_type": "code",
   "execution_count": 32,
   "metadata": {},
   "outputs": [
    {
     "name": "stderr",
     "output_type": "stream",
     "text": [
      "/Users/matthew/opt/anaconda3/lib/python3.7/site-packages/ipykernel_launcher.py:15: SettingWithCopyWarning: \n",
      "A value is trying to be set on a copy of a slice from a DataFrame.\n",
      "Try using .loc[row_indexer,col_indexer] = value instead\n",
      "\n",
      "See the caveats in the documentation: http://pandas.pydata.org/pandas-docs/stable/user_guide/indexing.html#returning-a-view-versus-a-copy\n",
      "  from ipykernel import kernelapp as app\n",
      "/Users/matthew/opt/anaconda3/lib/python3.7/site-packages/ipykernel_launcher.py:26: SettingWithCopyWarning: \n",
      "A value is trying to be set on a copy of a slice from a DataFrame.\n",
      "Try using .loc[row_indexer,col_indexer] = value instead\n",
      "\n",
      "See the caveats in the documentation: http://pandas.pydata.org/pandas-docs/stable/user_guide/indexing.html#returning-a-view-versus-a-copy\n"
     ]
    },
    {
     "name": "stdout",
     "output_type": "stream",
     "text": [
      "23124.11213645189\n",
      "20317.9039527547\n",
      "16211.569350232156\n",
      "13688.246389241212\n",
      "19385.231656002044\n",
      "31957.923577325753\n",
      "15516.021482422395\n",
      "15378.967520408209\n",
      "13717.952110614442\n",
      "2451.4258694917235\n",
      "286.83778651678404\n",
      "0.0\n"
     ]
    }
   ],
   "source": [
    "##K-means clustering procedure K=3\n",
    "diff = 1\n",
    "j=0\n",
    "\n",
    "while(diff!=0):\n",
    "    XD=X\n",
    "    i=1\n",
    "    for index1,row_c in Centroids.iterrows():\n",
    "        ED=[]\n",
    "        for index2,row_d in XD.iterrows():\n",
    "            d1=(row_c[\"annual_inc\"]-row_d[\"annual_inc\"])**2\n",
    "            d2=(row_c[\"loan_amnt\"]-row_d[\"loan_amnt\"])**2\n",
    "            d=np.sqrt(d1+d2)\n",
    "            ED.append(d)\n",
    "        X[i]=ED\n",
    "        i=i+1\n",
    "    C=[]\n",
    "    for index,row in X.iterrows():\n",
    "        min_dist=row[1]\n",
    "        pos=1\n",
    "        for i in range(K):\n",
    "            if row[i+1] < min_dist:\n",
    "                min_dist = row[i+1]\n",
    "                pos=i+1\n",
    "        C.append(pos)\n",
    "    X[\"Cluster\"]=C\n",
    "    Centroids_new = X.groupby([\"Cluster\"]).mean()[[\"loan_amnt\",\"annual_inc\"]]\n",
    "    if j == 0:\n",
    "        diff=1\n",
    "        j=j+1\n",
    "    else:\n",
    "        diff = (Centroids_new['loan_amnt'] - Centroids['loan_amnt']).sum() + (Centroids_new['annual_inc'] - Centroids['annual_inc']).sum()\n",
    "        print(diff.sum())\n",
    "    Centroids = X.groupby([\"Cluster\"]).mean()[[\"loan_amnt\",\"annual_inc\"]]"
   ]
  },
  {
   "cell_type": "markdown",
   "metadata": {},
   "source": [
    "Figure 4. K-means Clustering K=3"
   ]
  },
  {
   "cell_type": "code",
   "execution_count": 33,
   "metadata": {},
   "outputs": [
    {
     "data": {
      "image/png": "[encoded data removed]",
      "text/plain": [
       "<Figure size 432x288 with 1 Axes>"
      ]
     },
     "metadata": {
      "needs_background": "light"
     },
     "output_type": "display_data"
    }
   ],
   "source": [
    "##Coloring and Distinguishing Groups\n",
    "color=['blue','green','cyan']\n",
    "for k in range(K):\n",
    "    data=X[X[\"Cluster\"]==k+1]\n",
    "    plt.scatter(data[\"annual_inc\"],data[\"loan_amnt\"],c=color[k])\n",
    "plt.scatter(Centroids[\"annual_inc\"],Centroids[\"loan_amnt\"],c='red')\n",
    "plt.xlabel('Annual Income')\n",
    "plt.ylabel('Loan Amount')\n",
    "plt.title('Annual Income vs Loan Amount')\n",
    "plt.xlim(0, 500000)\n",
    "plt.show()"
   ]
  },
  {
   "cell_type": "markdown",
   "metadata": {},
   "source": [
    "The mean household income for grade A loans is 69,066.49 USD with a standard deviation of 10,030.26 USD for a sample size of 11,722. The mean income for grade B loans is 68,709.58 USD with a standard deviation of 9,998.35 USD for a sample size of 11,516. These values can be seen in table 3. The assumption of normality holds for each of the two groups because of the large sample size and the application of the Central Limit Theorem (CLT). The assumption of equal variance also holds as the variance for grade A is 100,606,115.67 USD squared and for group B is 99,967,002.72 USD squared. The two sample t-statistic for the difference in means between loan group A and B is 2.7163. There was found to be a significant difference in the mean household income between loan groups A and B with a p-value of 0.0066. See table 4 for output summary of t-test."
   ]
  },
  {
   "cell_type": "markdown",
   "metadata": {},
   "source": [
    "Table 3. Table of Average Household Income by Loan Grade"
   ]
  },
  {
   "cell_type": "code",
   "execution_count": 34,
   "metadata": {},
   "outputs": [
    {
     "data": {
      "text/html": [
       "<div>\n",
       "<style scoped>\n",
       "    .dataframe tbody tr th:only-of-type {\n",
       "        vertical-align: middle;\n",
       "    }\n",
       "\n",
       "    .dataframe tbody tr th {\n",
       "        vertical-align: top;\n",
       "    }\n",
       "\n",
       "    .dataframe thead th {\n",
       "        text-align: right;\n",
       "    }\n",
       "</style>\n",
       "<table border=\"1\" class=\"dataframe\">\n",
       "  <thead>\n",
       "    <tr style=\"text-align: right;\">\n",
       "      <th></th>\n",
       "      <th>count</th>\n",
       "      <th>mean</th>\n",
       "      <th>std</th>\n",
       "      <th>min</th>\n",
       "      <th>25%</th>\n",
       "      <th>50%</th>\n",
       "      <th>75%</th>\n",
       "      <th>max</th>\n",
       "    </tr>\n",
       "    <tr>\n",
       "      <th>grade</th>\n",
       "      <th></th>\n",
       "      <th></th>\n",
       "      <th></th>\n",
       "      <th></th>\n",
       "      <th></th>\n",
       "      <th></th>\n",
       "      <th></th>\n",
       "      <th></th>\n",
       "    </tr>\n",
       "  </thead>\n",
       "  <tbody>\n",
       "    <tr>\n",
       "      <td>A</td>\n",
       "      <td>11722.0</td>\n",
       "      <td>69066.485246</td>\n",
       "      <td>10030.375712</td>\n",
       "      <td>48924.003115</td>\n",
       "      <td>60887.889825</td>\n",
       "      <td>65407.010435</td>\n",
       "      <td>78126.737805</td>\n",
       "      <td>90668.421875</td>\n",
       "    </tr>\n",
       "    <tr>\n",
       "      <td>B</td>\n",
       "      <td>11516.0</td>\n",
       "      <td>68709.577861</td>\n",
       "      <td>9998.348751</td>\n",
       "      <td>48924.003115</td>\n",
       "      <td>60354.391198</td>\n",
       "      <td>65407.010435</td>\n",
       "      <td>78126.737805</td>\n",
       "      <td>90668.421875</td>\n",
       "    </tr>\n",
       "    <tr>\n",
       "      <td>C</td>\n",
       "      <td>9707.0</td>\n",
       "      <td>68986.327986</td>\n",
       "      <td>10124.714430</td>\n",
       "      <td>48924.003115</td>\n",
       "      <td>60354.391198</td>\n",
       "      <td>65407.010435</td>\n",
       "      <td>78126.737805</td>\n",
       "      <td>90668.421875</td>\n",
       "    </tr>\n",
       "    <tr>\n",
       "      <td>D</td>\n",
       "      <td>5152.0</td>\n",
       "      <td>68933.744135</td>\n",
       "      <td>10157.626902</td>\n",
       "      <td>48924.003115</td>\n",
       "      <td>60354.391198</td>\n",
       "      <td>65407.010435</td>\n",
       "      <td>78126.737805</td>\n",
       "      <td>90668.421875</td>\n",
       "    </tr>\n",
       "    <tr>\n",
       "      <td>E</td>\n",
       "      <td>2009.0</td>\n",
       "      <td>68993.916248</td>\n",
       "      <td>10420.629272</td>\n",
       "      <td>48924.003115</td>\n",
       "      <td>60354.391198</td>\n",
       "      <td>65407.010435</td>\n",
       "      <td>78126.737805</td>\n",
       "      <td>90668.421875</td>\n",
       "    </tr>\n",
       "    <tr>\n",
       "      <td>F</td>\n",
       "      <td>14.0</td>\n",
       "      <td>69258.963997</td>\n",
       "      <td>9249.443332</td>\n",
       "      <td>52291.995968</td>\n",
       "      <td>60887.889825</td>\n",
       "      <td>71019.277932</td>\n",
       "      <td>78126.737805</td>\n",
       "      <td>78126.737805</td>\n",
       "    </tr>\n",
       "    <tr>\n",
       "      <td>G</td>\n",
       "      <td>14.0</td>\n",
       "      <td>68985.313111</td>\n",
       "      <td>10060.166825</td>\n",
       "      <td>56211.442953</td>\n",
       "      <td>60887.889825</td>\n",
       "      <td>65142.852675</td>\n",
       "      <td>77645.358562</td>\n",
       "      <td>89227.219718</td>\n",
       "    </tr>\n",
       "  </tbody>\n",
       "</table>\n",
       "</div>"
      ],
      "text/plain": [
       "         count          mean           std           min           25%  \\\n",
       "grade                                                                    \n",
       "A      11722.0  69066.485246  10030.375712  48924.003115  60887.889825   \n",
       "B      11516.0  68709.577861   9998.348751  48924.003115  60354.391198   \n",
       "C       9707.0  68986.327986  10124.714430  48924.003115  60354.391198   \n",
       "D       5152.0  68933.744135  10157.626902  48924.003115  60354.391198   \n",
       "E       2009.0  68993.916248  10420.629272  48924.003115  60354.391198   \n",
       "F         14.0  69258.963997   9249.443332  52291.995968  60887.889825   \n",
       "G         14.0  68985.313111  10060.166825  56211.442953  60887.889825   \n",
       "\n",
       "                50%           75%           max  \n",
       "grade                                            \n",
       "A      65407.010435  78126.737805  90668.421875  \n",
       "B      65407.010435  78126.737805  90668.421875  \n",
       "C      65407.010435  78126.737805  90668.421875  \n",
       "D      65407.010435  78126.737805  90668.421875  \n",
       "E      65407.010435  78126.737805  90668.421875  \n",
       "F      71019.277932  78126.737805  78126.737805  \n",
       "G      65142.852675  77645.358562  89227.219718  "
      ]
     },
     "execution_count": 34,
     "metadata": {},
     "output_type": "execute_result"
    }
   ],
   "source": [
    "##Table of Average Household Income by Loan Grade\n",
    "\n",
    "merged.groupby('grade')['mean'].describe()"
   ]
  },
  {
   "cell_type": "code",
   "execution_count": 35,
   "metadata": {},
   "outputs": [],
   "source": [
    "##Filtering dataset into two sub-datasets with only grade A in the first and grade B in the second for merged dataset\n",
    "Am = merged[(merged['grade'] == 'A')]\n",
    "Bm = merged[(merged['grade'] == 'B')]"
   ]
  },
  {
   "cell_type": "markdown",
   "metadata": {},
   "source": [
    "Table 4. Summary Output T-test"
   ]
  },
  {
   "cell_type": "code",
   "execution_count": 36,
   "metadata": {},
   "outputs": [
    {
     "data": {
      "text/plain": [
       "Ttest_indResult(statistic=2.7163006548766426, pvalue=0.006606477455888224)"
      ]
     },
     "execution_count": 36,
     "metadata": {},
     "output_type": "execute_result"
    }
   ],
   "source": [
    "##Two sample T-test of means for equal variances\n",
    "stats.ttest_ind(Am['mean'], Bm['mean'], equal_var=True)"
   ]
  },
  {
   "cell_type": "markdown",
   "metadata": {},
   "source": [
    "# Conclusion "
   ]
  },
  {
   "cell_type": "markdown",
   "metadata": {},
   "source": [
    "It was found that there was a significant difference in the mean income for loan recipients of grade A loans and loan recipients of grade B loans. This difference though statistically significant is only a difference of 5,783 USD. There is not a large difference in incomes of recipients of grade A loans and loan recipients of grade B loans. At the level of grade A and B loans which have favorable interest rates it does not appear than income describes completely the rational for which borrowers receive a grade A or B loan. Further analysis should be done on a dataset that contains credit score. \n",
    "\n",
    "For borrowers who are borrowing to pay medical expenses the relationship between annual income and the amount borrowed for this purpose break down into three distinct clusters. The first cluster is for moderate income, making less than 75,000USD, the mean amount of the loan is  approximately 7,500 USD. The second cluster is for middle to upper income of greater than 75,000 and less than 165,000, the mean loan amount for this group is 11,000 USD. The third cluster was for high income of greater than 165,000 USD and less 375,000 USD with a mean amount 19,000 USD. There is therefore a relationship between the mean of the loan and the income. Another interesting feature of these three clusters is they have a very different distribution for the loan amounts. The distributions for the first two clusters appear to be a skewed distribution with very long tails. This indicates that high loan amounts for medical purposes  for the moderate and middle income groups are possible but are less frequent relative to the subjects that make up that cluster.  On the other hand for the high income group the distribution for loan amounts in addition to having a higher mean, appears to be normally distributed, so higher loan amounts are more likely. \n",
    "\n",
    "In final analysis there was found to be a significant difference in average household income between loan grade A and B. It was statistically significant but a very small difference of 356.58 USD. Hence household income is not a main driver in determining a grade A or B loan. There are other factors in determining this. "
   ]
  },
  {
   "cell_type": "markdown",
   "metadata": {},
   "source": [
    "# Appendix"
   ]
  },
  {
   "cell_type": "markdown",
   "metadata": {},
   "source": [
    "Exploratory Data Analysis"
   ]
  },
  {
   "cell_type": "markdown",
   "metadata": {},
   "source": [
    "Appendix A. Mean Loan Amount by Home Ownership Status"
   ]
  },
  {
   "cell_type": "code",
   "execution_count": 41,
   "metadata": {},
   "outputs": [
    {
     "data": {
      "text/html": [
       "<div>\n",
       "<style scoped>\n",
       "    .dataframe tbody tr th:only-of-type {\n",
       "        vertical-align: middle;\n",
       "    }\n",
       "\n",
       "    .dataframe tbody tr th {\n",
       "        vertical-align: top;\n",
       "    }\n",
       "\n",
       "    .dataframe thead th {\n",
       "        text-align: right;\n",
       "    }\n",
       "</style>\n",
       "<table border=\"1\" class=\"dataframe\">\n",
       "  <thead>\n",
       "    <tr style=\"text-align: right;\">\n",
       "      <th></th>\n",
       "      <th>count</th>\n",
       "      <th>mean</th>\n",
       "      <th>std</th>\n",
       "      <th>min</th>\n",
       "      <th>25%</th>\n",
       "      <th>50%</th>\n",
       "      <th>75%</th>\n",
       "      <th>max</th>\n",
       "    </tr>\n",
       "    <tr>\n",
       "      <th>home_ownership</th>\n",
       "      <th></th>\n",
       "      <th></th>\n",
       "      <th></th>\n",
       "      <th></th>\n",
       "      <th></th>\n",
       "      <th></th>\n",
       "      <th></th>\n",
       "      <th></th>\n",
       "    </tr>\n",
       "  </thead>\n",
       "  <tbody>\n",
       "    <tr>\n",
       "      <td>ANY</td>\n",
       "      <td>113.0</td>\n",
       "      <td>14620.132743</td>\n",
       "      <td>9559.522096</td>\n",
       "      <td>1000.0</td>\n",
       "      <td>8000.0</td>\n",
       "      <td>12000.0</td>\n",
       "      <td>20000.0</td>\n",
       "      <td>40000.0</td>\n",
       "    </tr>\n",
       "    <tr>\n",
       "      <td>MORTGAGE</td>\n",
       "      <td>19803.0</td>\n",
       "      <td>17511.438923</td>\n",
       "      <td>10619.851856</td>\n",
       "      <td>1000.0</td>\n",
       "      <td>10000.0</td>\n",
       "      <td>15000.0</td>\n",
       "      <td>25000.0</td>\n",
       "      <td>40000.0</td>\n",
       "    </tr>\n",
       "    <tr>\n",
       "      <td>OWN</td>\n",
       "      <td>4402.0</td>\n",
       "      <td>14545.218083</td>\n",
       "      <td>9543.539672</td>\n",
       "      <td>1000.0</td>\n",
       "      <td>7112.5</td>\n",
       "      <td>12000.0</td>\n",
       "      <td>20000.0</td>\n",
       "      <td>40000.0</td>\n",
       "    </tr>\n",
       "    <tr>\n",
       "      <td>RENT</td>\n",
       "      <td>15816.0</td>\n",
       "      <td>14250.374621</td>\n",
       "      <td>9575.998563</td>\n",
       "      <td>1000.0</td>\n",
       "      <td>7000.0</td>\n",
       "      <td>11950.0</td>\n",
       "      <td>20000.0</td>\n",
       "      <td>40000.0</td>\n",
       "    </tr>\n",
       "  </tbody>\n",
       "</table>\n",
       "</div>"
      ],
      "text/plain": [
       "                  count          mean           std     min      25%      50%  \\\n",
       "home_ownership                                                                  \n",
       "ANY               113.0  14620.132743   9559.522096  1000.0   8000.0  12000.0   \n",
       "MORTGAGE        19803.0  17511.438923  10619.851856  1000.0  10000.0  15000.0   \n",
       "OWN              4402.0  14545.218083   9543.539672  1000.0   7112.5  12000.0   \n",
       "RENT            15816.0  14250.374621   9575.998563  1000.0   7000.0  11950.0   \n",
       "\n",
       "                    75%      max  \n",
       "home_ownership                    \n",
       "ANY             20000.0  40000.0  \n",
       "MORTGAGE        25000.0  40000.0  \n",
       "OWN             20000.0  40000.0  \n",
       "RENT            20000.0  40000.0  "
      ]
     },
     "execution_count": 41,
     "metadata": {},
     "output_type": "execute_result"
    }
   ],
   "source": [
    "##Exploritory data Analysis -- Descriptive stats based on home ownership\n",
    "data18.groupby('home_ownership')['loan_amnt'].describe()"
   ]
  },
  {
   "cell_type": "code",
   "execution_count": null,
   "metadata": {},
   "outputs": [],
   "source": []
  },
  {
   "cell_type": "code",
   "execution_count": 42,
   "metadata": {},
   "outputs": [
    {
     "data": {
      "text/plain": [
       "Text(0.5, 1.0, 'Mean Loan Amount by Home Ownership Status')"
      ]
     },
     "execution_count": 42,
     "metadata": {},
     "output_type": "execute_result"
    },
    {
     "data": {
      "image/png": "[encoded data removed]",
      "text/plain": [
       "<Figure size 432x288 with 1 Axes>"
      ]
     },
     "metadata": {
      "needs_background": "light"
     },
     "output_type": "display_data"
    }
   ],
   "source": [
    "data18.groupby('home_ownership').loan_amnt.mean().plot(kind='bar')\n",
    "plt.xlabel('Home Ownership Status')\n",
    "plt.ylabel('Loan Amount')\n",
    "plt.title('Mean Loan Amount by Home Ownership Status')"
   ]
  },
  {
   "cell_type": "code",
   "execution_count": null,
   "metadata": {},
   "outputs": [],
   "source": []
  },
  {
   "cell_type": "markdown",
   "metadata": {},
   "source": [
    "Appendix B. Mean Loan Amount by Loan Purpose"
   ]
  },
  {
   "cell_type": "code",
   "execution_count": 43,
   "metadata": {},
   "outputs": [
    {
     "data": {
      "text/html": [
       "<div>\n",
       "<style scoped>\n",
       "    .dataframe tbody tr th:only-of-type {\n",
       "        vertical-align: middle;\n",
       "    }\n",
       "\n",
       "    .dataframe tbody tr th {\n",
       "        vertical-align: top;\n",
       "    }\n",
       "\n",
       "    .dataframe thead th {\n",
       "        text-align: right;\n",
       "    }\n",
       "</style>\n",
       "<table border=\"1\" class=\"dataframe\">\n",
       "  <thead>\n",
       "    <tr style=\"text-align: right;\">\n",
       "      <th></th>\n",
       "      <th>count</th>\n",
       "      <th>mean</th>\n",
       "      <th>std</th>\n",
       "      <th>min</th>\n",
       "      <th>25%</th>\n",
       "      <th>50%</th>\n",
       "      <th>75%</th>\n",
       "      <th>max</th>\n",
       "    </tr>\n",
       "    <tr>\n",
       "      <th>purpose</th>\n",
       "      <th></th>\n",
       "      <th></th>\n",
       "      <th></th>\n",
       "      <th></th>\n",
       "      <th></th>\n",
       "      <th></th>\n",
       "      <th></th>\n",
       "      <th></th>\n",
       "    </tr>\n",
       "  </thead>\n",
       "  <tbody>\n",
       "    <tr>\n",
       "      <td>car</td>\n",
       "      <td>332.0</td>\n",
       "      <td>10775.150602</td>\n",
       "      <td>8362.252664</td>\n",
       "      <td>1000.0</td>\n",
       "      <td>5000.0</td>\n",
       "      <td>8000.0</td>\n",
       "      <td>14425.0</td>\n",
       "      <td>40000.0</td>\n",
       "    </tr>\n",
       "    <tr>\n",
       "      <td>credit_card</td>\n",
       "      <td>10604.0</td>\n",
       "      <td>15559.817050</td>\n",
       "      <td>9695.993179</td>\n",
       "      <td>1000.0</td>\n",
       "      <td>8500.0</td>\n",
       "      <td>13000.0</td>\n",
       "      <td>20000.0</td>\n",
       "      <td>40000.0</td>\n",
       "    </tr>\n",
       "    <tr>\n",
       "      <td>debt_consolidation</td>\n",
       "      <td>22156.0</td>\n",
       "      <td>17204.636442</td>\n",
       "      <td>10161.034098</td>\n",
       "      <td>1000.0</td>\n",
       "      <td>10000.0</td>\n",
       "      <td>15000.0</td>\n",
       "      <td>24000.0</td>\n",
       "      <td>40000.0</td>\n",
       "    </tr>\n",
       "    <tr>\n",
       "      <td>home_improvement</td>\n",
       "      <td>2281.0</td>\n",
       "      <td>14901.063130</td>\n",
       "      <td>10564.059327</td>\n",
       "      <td>1000.0</td>\n",
       "      <td>6000.0</td>\n",
       "      <td>12000.0</td>\n",
       "      <td>20000.0</td>\n",
       "      <td>40000.0</td>\n",
       "    </tr>\n",
       "    <tr>\n",
       "      <td>house</td>\n",
       "      <td>287.0</td>\n",
       "      <td>15691.114983</td>\n",
       "      <td>10863.793332</td>\n",
       "      <td>1000.0</td>\n",
       "      <td>6775.0</td>\n",
       "      <td>13000.0</td>\n",
       "      <td>24000.0</td>\n",
       "      <td>40000.0</td>\n",
       "    </tr>\n",
       "    <tr>\n",
       "      <td>major_purchase</td>\n",
       "      <td>739.0</td>\n",
       "      <td>12607.374831</td>\n",
       "      <td>10900.206113</td>\n",
       "      <td>1000.0</td>\n",
       "      <td>5000.0</td>\n",
       "      <td>10000.0</td>\n",
       "      <td>17000.0</td>\n",
       "      <td>40000.0</td>\n",
       "    </tr>\n",
       "    <tr>\n",
       "      <td>medical</td>\n",
       "      <td>460.0</td>\n",
       "      <td>9041.793478</td>\n",
       "      <td>7960.192989</td>\n",
       "      <td>1000.0</td>\n",
       "      <td>3500.0</td>\n",
       "      <td>6000.0</td>\n",
       "      <td>11400.0</td>\n",
       "      <td>40000.0</td>\n",
       "    </tr>\n",
       "    <tr>\n",
       "      <td>moving</td>\n",
       "      <td>218.0</td>\n",
       "      <td>10137.729358</td>\n",
       "      <td>9307.752591</td>\n",
       "      <td>1000.0</td>\n",
       "      <td>4000.0</td>\n",
       "      <td>7000.0</td>\n",
       "      <td>12000.0</td>\n",
       "      <td>40000.0</td>\n",
       "    </tr>\n",
       "    <tr>\n",
       "      <td>other</td>\n",
       "      <td>2400.0</td>\n",
       "      <td>10626.302083</td>\n",
       "      <td>9656.051797</td>\n",
       "      <td>1000.0</td>\n",
       "      <td>3500.0</td>\n",
       "      <td>7200.0</td>\n",
       "      <td>15000.0</td>\n",
       "      <td>40000.0</td>\n",
       "    </tr>\n",
       "    <tr>\n",
       "      <td>renewable_energy</td>\n",
       "      <td>19.0</td>\n",
       "      <td>15526.315789</td>\n",
       "      <td>11660.419380</td>\n",
       "      <td>1000.0</td>\n",
       "      <td>6700.0</td>\n",
       "      <td>13200.0</td>\n",
       "      <td>23200.0</td>\n",
       "      <td>40000.0</td>\n",
       "    </tr>\n",
       "    <tr>\n",
       "      <td>small_business</td>\n",
       "      <td>350.0</td>\n",
       "      <td>18020.928571</td>\n",
       "      <td>11666.391996</td>\n",
       "      <td>1000.0</td>\n",
       "      <td>8000.0</td>\n",
       "      <td>15000.0</td>\n",
       "      <td>27275.0</td>\n",
       "      <td>40000.0</td>\n",
       "    </tr>\n",
       "    <tr>\n",
       "      <td>vacation</td>\n",
       "      <td>288.0</td>\n",
       "      <td>6247.482639</td>\n",
       "      <td>6062.926425</td>\n",
       "      <td>1000.0</td>\n",
       "      <td>2400.0</td>\n",
       "      <td>5000.0</td>\n",
       "      <td>7500.0</td>\n",
       "      <td>36000.0</td>\n",
       "    </tr>\n",
       "  </tbody>\n",
       "</table>\n",
       "</div>"
      ],
      "text/plain": [
       "                      count          mean           std     min      25%  \\\n",
       "purpose                                                                    \n",
       "car                   332.0  10775.150602   8362.252664  1000.0   5000.0   \n",
       "credit_card         10604.0  15559.817050   9695.993179  1000.0   8500.0   \n",
       "debt_consolidation  22156.0  17204.636442  10161.034098  1000.0  10000.0   \n",
       "home_improvement     2281.0  14901.063130  10564.059327  1000.0   6000.0   \n",
       "house                 287.0  15691.114983  10863.793332  1000.0   6775.0   \n",
       "major_purchase        739.0  12607.374831  10900.206113  1000.0   5000.0   \n",
       "medical               460.0   9041.793478   7960.192989  1000.0   3500.0   \n",
       "moving                218.0  10137.729358   9307.752591  1000.0   4000.0   \n",
       "other                2400.0  10626.302083   9656.051797  1000.0   3500.0   \n",
       "renewable_energy       19.0  15526.315789  11660.419380  1000.0   6700.0   \n",
       "small_business        350.0  18020.928571  11666.391996  1000.0   8000.0   \n",
       "vacation              288.0   6247.482639   6062.926425  1000.0   2400.0   \n",
       "\n",
       "                        50%      75%      max  \n",
       "purpose                                        \n",
       "car                  8000.0  14425.0  40000.0  \n",
       "credit_card         13000.0  20000.0  40000.0  \n",
       "debt_consolidation  15000.0  24000.0  40000.0  \n",
       "home_improvement    12000.0  20000.0  40000.0  \n",
       "house               13000.0  24000.0  40000.0  \n",
       "major_purchase      10000.0  17000.0  40000.0  \n",
       "medical              6000.0  11400.0  40000.0  \n",
       "moving               7000.0  12000.0  40000.0  \n",
       "other                7200.0  15000.0  40000.0  \n",
       "renewable_energy    13200.0  23200.0  40000.0  \n",
       "small_business      15000.0  27275.0  40000.0  \n",
       "vacation             5000.0   7500.0  36000.0  "
      ]
     },
     "execution_count": 43,
     "metadata": {},
     "output_type": "execute_result"
    }
   ],
   "source": [
    "data18.groupby('purpose')['loan_amnt'].describe()"
   ]
  },
  {
   "cell_type": "code",
   "execution_count": 61,
   "metadata": {},
   "outputs": [
    {
     "data": {
      "text/plain": [
       "Text(0.5, 1.0, 'Mean Loan Amount by Loan Purpose')"
      ]
     },
     "execution_count": 61,
     "metadata": {},
     "output_type": "execute_result"
    },
    {
     "data": {
      "image/png": "[encoded data removed]",
      "text/plain": [
       "<Figure size 432x288 with 1 Axes>"
      ]
     },
     "metadata": {
      "needs_background": "light"
     },
     "output_type": "display_data"
    }
   ],
   "source": [
    "data18.groupby('purpose').loan_amnt.mean().plot(kind='bar')\n",
    "plt.xlabel('Purpose')\n",
    "plt.ylabel('Loan Amount')\n",
    "plt.title('Mean Loan Amount by Loan Purpose')"
   ]
  },
  {
   "cell_type": "markdown",
   "metadata": {},
   "source": [
    "Appendix C. Mean Income by Loan Status"
   ]
  },
  {
   "cell_type": "code",
   "execution_count": 45,
   "metadata": {
    "scrolled": true
   },
   "outputs": [
    {
     "data": {
      "text/html": [
       "<div>\n",
       "<style scoped>\n",
       "    .dataframe tbody tr th:only-of-type {\n",
       "        vertical-align: middle;\n",
       "    }\n",
       "\n",
       "    .dataframe tbody tr th {\n",
       "        vertical-align: top;\n",
       "    }\n",
       "\n",
       "    .dataframe thead th {\n",
       "        text-align: right;\n",
       "    }\n",
       "</style>\n",
       "<table border=\"1\" class=\"dataframe\">\n",
       "  <thead>\n",
       "    <tr style=\"text-align: right;\">\n",
       "      <th></th>\n",
       "      <th>count</th>\n",
       "      <th>mean</th>\n",
       "      <th>std</th>\n",
       "      <th>min</th>\n",
       "      <th>25%</th>\n",
       "      <th>50%</th>\n",
       "      <th>75%</th>\n",
       "      <th>max</th>\n",
       "    </tr>\n",
       "    <tr>\n",
       "      <th>loan_status</th>\n",
       "      <th></th>\n",
       "      <th></th>\n",
       "      <th></th>\n",
       "      <th></th>\n",
       "      <th></th>\n",
       "      <th></th>\n",
       "      <th></th>\n",
       "      <th></th>\n",
       "    </tr>\n",
       "  </thead>\n",
       "  <tbody>\n",
       "    <tr>\n",
       "      <td>Charged Off</td>\n",
       "      <td>2.0</td>\n",
       "      <td>36000.000000</td>\n",
       "      <td>26870.057685</td>\n",
       "      <td>17000.0</td>\n",
       "      <td>26500.0</td>\n",
       "      <td>36000.0</td>\n",
       "      <td>45500.0</td>\n",
       "      <td>55000.0</td>\n",
       "    </tr>\n",
       "    <tr>\n",
       "      <td>Current</td>\n",
       "      <td>39087.0</td>\n",
       "      <td>83006.356585</td>\n",
       "      <td>89815.767428</td>\n",
       "      <td>0.0</td>\n",
       "      <td>48000.0</td>\n",
       "      <td>70000.0</td>\n",
       "      <td>100000.0</td>\n",
       "      <td>9000000.0</td>\n",
       "    </tr>\n",
       "    <tr>\n",
       "      <td>Fully Paid</td>\n",
       "      <td>823.0</td>\n",
       "      <td>85116.571738</td>\n",
       "      <td>75701.561874</td>\n",
       "      <td>0.0</td>\n",
       "      <td>50000.0</td>\n",
       "      <td>70000.0</td>\n",
       "      <td>100000.0</td>\n",
       "      <td>1100000.0</td>\n",
       "    </tr>\n",
       "    <tr>\n",
       "      <td>In Grace Period</td>\n",
       "      <td>111.0</td>\n",
       "      <td>87807.522523</td>\n",
       "      <td>58455.744552</td>\n",
       "      <td>16000.0</td>\n",
       "      <td>55500.0</td>\n",
       "      <td>79000.0</td>\n",
       "      <td>100000.0</td>\n",
       "      <td>430000.0</td>\n",
       "    </tr>\n",
       "    <tr>\n",
       "      <td>Late (16-30 days)</td>\n",
       "      <td>54.0</td>\n",
       "      <td>72364.814815</td>\n",
       "      <td>42922.418637</td>\n",
       "      <td>15000.0</td>\n",
       "      <td>40250.0</td>\n",
       "      <td>60000.0</td>\n",
       "      <td>100000.0</td>\n",
       "      <td>200000.0</td>\n",
       "    </tr>\n",
       "    <tr>\n",
       "      <td>Late (31-120 days)</td>\n",
       "      <td>57.0</td>\n",
       "      <td>75626.228070</td>\n",
       "      <td>49952.508171</td>\n",
       "      <td>6048.0</td>\n",
       "      <td>49200.0</td>\n",
       "      <td>65000.0</td>\n",
       "      <td>96000.0</td>\n",
       "      <td>234000.0</td>\n",
       "    </tr>\n",
       "  </tbody>\n",
       "</table>\n",
       "</div>"
      ],
      "text/plain": [
       "                      count          mean           std      min      25%  \\\n",
       "loan_status                                                                 \n",
       "Charged Off             2.0  36000.000000  26870.057685  17000.0  26500.0   \n",
       "Current             39087.0  83006.356585  89815.767428      0.0  48000.0   \n",
       "Fully Paid            823.0  85116.571738  75701.561874      0.0  50000.0   \n",
       "In Grace Period       111.0  87807.522523  58455.744552  16000.0  55500.0   \n",
       "Late (16-30 days)      54.0  72364.814815  42922.418637  15000.0  40250.0   \n",
       "Late (31-120 days)     57.0  75626.228070  49952.508171   6048.0  49200.0   \n",
       "\n",
       "                        50%       75%        max  \n",
       "loan_status                                       \n",
       "Charged Off         36000.0   45500.0    55000.0  \n",
       "Current             70000.0  100000.0  9000000.0  \n",
       "Fully Paid          70000.0  100000.0  1100000.0  \n",
       "In Grace Period     79000.0  100000.0   430000.0  \n",
       "Late (16-30 days)   60000.0  100000.0   200000.0  \n",
       "Late (31-120 days)  65000.0   96000.0   234000.0  "
      ]
     },
     "execution_count": 45,
     "metadata": {},
     "output_type": "execute_result"
    }
   ],
   "source": [
    "data18.groupby('loan_status')['annual_inc'].describe()\n"
   ]
  },
  {
   "cell_type": "code",
   "execution_count": 62,
   "metadata": {},
   "outputs": [
    {
     "data": {
      "text/plain": [
       "Text(0.5, 1.0, 'Mean Income by Loan Status')"
      ]
     },
     "execution_count": 62,
     "metadata": {},
     "output_type": "execute_result"
    },
    {
     "data": {
      "image/png": "[encoded data removed]",
      "text/plain": [
       "<Figure size 432x288 with 1 Axes>"
      ]
     },
     "metadata": {
      "needs_background": "light"
     },
     "output_type": "display_data"
    }
   ],
   "source": [
    "data18.groupby('loan_status').annual_inc.median().plot(kind='bar')\n",
    "plt.xlabel('Loan Status')\n",
    "plt.ylabel('Mean Income')\n",
    "plt.title('Mean Income by Loan Status')"
   ]
  },
  {
   "cell_type": "markdown",
   "metadata": {},
   "source": [
    "Appendix D. Mean Income by Loan Purpose"
   ]
  },
  {
   "cell_type": "code",
   "execution_count": 47,
   "metadata": {},
   "outputs": [
    {
     "data": {
      "text/html": [
       "<div>\n",
       "<style scoped>\n",
       "    .dataframe tbody tr th:only-of-type {\n",
       "        vertical-align: middle;\n",
       "    }\n",
       "\n",
       "    .dataframe tbody tr th {\n",
       "        vertical-align: top;\n",
       "    }\n",
       "\n",
       "    .dataframe thead th {\n",
       "        text-align: right;\n",
       "    }\n",
       "</style>\n",
       "<table border=\"1\" class=\"dataframe\">\n",
       "  <thead>\n",
       "    <tr style=\"text-align: right;\">\n",
       "      <th></th>\n",
       "      <th>count</th>\n",
       "      <th>mean</th>\n",
       "      <th>std</th>\n",
       "      <th>min</th>\n",
       "      <th>25%</th>\n",
       "      <th>50%</th>\n",
       "      <th>75%</th>\n",
       "      <th>max</th>\n",
       "    </tr>\n",
       "    <tr>\n",
       "      <th>purpose</th>\n",
       "      <th></th>\n",
       "      <th></th>\n",
       "      <th></th>\n",
       "      <th></th>\n",
       "      <th></th>\n",
       "      <th></th>\n",
       "      <th></th>\n",
       "      <th></th>\n",
       "    </tr>\n",
       "  </thead>\n",
       "  <tbody>\n",
       "    <tr>\n",
       "      <td>car</td>\n",
       "      <td>332.0</td>\n",
       "      <td>78960.331325</td>\n",
       "      <td>48915.041057</td>\n",
       "      <td>1.0</td>\n",
       "      <td>45000.0</td>\n",
       "      <td>68000.0</td>\n",
       "      <td>99999.25</td>\n",
       "      <td>325000.0</td>\n",
       "    </tr>\n",
       "    <tr>\n",
       "      <td>credit_card</td>\n",
       "      <td>10604.0</td>\n",
       "      <td>82376.392155</td>\n",
       "      <td>105759.937667</td>\n",
       "      <td>0.0</td>\n",
       "      <td>48000.0</td>\n",
       "      <td>69000.0</td>\n",
       "      <td>98604.00</td>\n",
       "      <td>9000000.0</td>\n",
       "    </tr>\n",
       "    <tr>\n",
       "      <td>debt_consolidation</td>\n",
       "      <td>22156.0</td>\n",
       "      <td>82568.292398</td>\n",
       "      <td>87741.499935</td>\n",
       "      <td>0.0</td>\n",
       "      <td>48000.0</td>\n",
       "      <td>69000.0</td>\n",
       "      <td>100000.00</td>\n",
       "      <td>6863991.0</td>\n",
       "    </tr>\n",
       "    <tr>\n",
       "      <td>home_improvement</td>\n",
       "      <td>2281.0</td>\n",
       "      <td>96221.107001</td>\n",
       "      <td>69807.758868</td>\n",
       "      <td>0.0</td>\n",
       "      <td>55000.0</td>\n",
       "      <td>80000.0</td>\n",
       "      <td>118000.00</td>\n",
       "      <td>800000.0</td>\n",
       "    </tr>\n",
       "    <tr>\n",
       "      <td>house</td>\n",
       "      <td>287.0</td>\n",
       "      <td>85539.833101</td>\n",
       "      <td>64903.069513</td>\n",
       "      <td>1100.0</td>\n",
       "      <td>50000.0</td>\n",
       "      <td>72000.0</td>\n",
       "      <td>100000.00</td>\n",
       "      <td>704000.0</td>\n",
       "    </tr>\n",
       "    <tr>\n",
       "      <td>major_purchase</td>\n",
       "      <td>739.0</td>\n",
       "      <td>86562.372124</td>\n",
       "      <td>67457.283234</td>\n",
       "      <td>0.0</td>\n",
       "      <td>50000.0</td>\n",
       "      <td>74000.0</td>\n",
       "      <td>100000.00</td>\n",
       "      <td>750000.0</td>\n",
       "    </tr>\n",
       "    <tr>\n",
       "      <td>medical</td>\n",
       "      <td>460.0</td>\n",
       "      <td>74366.460935</td>\n",
       "      <td>51745.791726</td>\n",
       "      <td>0.0</td>\n",
       "      <td>41900.0</td>\n",
       "      <td>61000.0</td>\n",
       "      <td>95000.00</td>\n",
       "      <td>550000.0</td>\n",
       "    </tr>\n",
       "    <tr>\n",
       "      <td>moving</td>\n",
       "      <td>218.0</td>\n",
       "      <td>76967.712339</td>\n",
       "      <td>60995.386302</td>\n",
       "      <td>0.0</td>\n",
       "      <td>45000.0</td>\n",
       "      <td>65750.0</td>\n",
       "      <td>92075.00</td>\n",
       "      <td>725000.0</td>\n",
       "    </tr>\n",
       "    <tr>\n",
       "      <td>other</td>\n",
       "      <td>2400.0</td>\n",
       "      <td>77783.172225</td>\n",
       "      <td>63172.015268</td>\n",
       "      <td>0.0</td>\n",
       "      <td>43000.0</td>\n",
       "      <td>62400.0</td>\n",
       "      <td>93000.00</td>\n",
       "      <td>889000.0</td>\n",
       "    </tr>\n",
       "    <tr>\n",
       "      <td>renewable_energy</td>\n",
       "      <td>19.0</td>\n",
       "      <td>78484.210526</td>\n",
       "      <td>33709.037086</td>\n",
       "      <td>36000.0</td>\n",
       "      <td>52000.0</td>\n",
       "      <td>70000.0</td>\n",
       "      <td>100000.00</td>\n",
       "      <td>164000.0</td>\n",
       "    </tr>\n",
       "    <tr>\n",
       "      <td>small_business</td>\n",
       "      <td>350.0</td>\n",
       "      <td>100626.730886</td>\n",
       "      <td>80289.248150</td>\n",
       "      <td>15000.0</td>\n",
       "      <td>56125.0</td>\n",
       "      <td>83600.0</td>\n",
       "      <td>120000.00</td>\n",
       "      <td>800000.0</td>\n",
       "    </tr>\n",
       "    <tr>\n",
       "      <td>vacation</td>\n",
       "      <td>288.0</td>\n",
       "      <td>73134.295000</td>\n",
       "      <td>40631.913614</td>\n",
       "      <td>3500.0</td>\n",
       "      <td>45000.0</td>\n",
       "      <td>65000.0</td>\n",
       "      <td>91250.00</td>\n",
       "      <td>340000.0</td>\n",
       "    </tr>\n",
       "  </tbody>\n",
       "</table>\n",
       "</div>"
      ],
      "text/plain": [
       "                      count           mean            std      min      25%  \\\n",
       "purpose                                                                       \n",
       "car                   332.0   78960.331325   48915.041057      1.0  45000.0   \n",
       "credit_card         10604.0   82376.392155  105759.937667      0.0  48000.0   \n",
       "debt_consolidation  22156.0   82568.292398   87741.499935      0.0  48000.0   \n",
       "home_improvement     2281.0   96221.107001   69807.758868      0.0  55000.0   \n",
       "house                 287.0   85539.833101   64903.069513   1100.0  50000.0   \n",
       "major_purchase        739.0   86562.372124   67457.283234      0.0  50000.0   \n",
       "medical               460.0   74366.460935   51745.791726      0.0  41900.0   \n",
       "moving                218.0   76967.712339   60995.386302      0.0  45000.0   \n",
       "other                2400.0   77783.172225   63172.015268      0.0  43000.0   \n",
       "renewable_energy       19.0   78484.210526   33709.037086  36000.0  52000.0   \n",
       "small_business        350.0  100626.730886   80289.248150  15000.0  56125.0   \n",
       "vacation              288.0   73134.295000   40631.913614   3500.0  45000.0   \n",
       "\n",
       "                        50%        75%        max  \n",
       "purpose                                            \n",
       "car                 68000.0   99999.25   325000.0  \n",
       "credit_card         69000.0   98604.00  9000000.0  \n",
       "debt_consolidation  69000.0  100000.00  6863991.0  \n",
       "home_improvement    80000.0  118000.00   800000.0  \n",
       "house               72000.0  100000.00   704000.0  \n",
       "major_purchase      74000.0  100000.00   750000.0  \n",
       "medical             61000.0   95000.00   550000.0  \n",
       "moving              65750.0   92075.00   725000.0  \n",
       "other               62400.0   93000.00   889000.0  \n",
       "renewable_energy    70000.0  100000.00   164000.0  \n",
       "small_business      83600.0  120000.00   800000.0  \n",
       "vacation            65000.0   91250.00   340000.0  "
      ]
     },
     "execution_count": 47,
     "metadata": {},
     "output_type": "execute_result"
    }
   ],
   "source": [
    "data18.groupby('purpose')['annual_inc'].describe()"
   ]
  },
  {
   "cell_type": "code",
   "execution_count": 37,
   "metadata": {
    "scrolled": false
   },
   "outputs": [],
   "source": [
    "##Loading of Dataset loan.csv\n",
    "data1=pd.read_csv(\"./Documents/Data_Science_I/Assignments/Final/loan.csv\")"
   ]
  },
  {
   "cell_type": "code",
   "execution_count": 38,
   "metadata": {},
   "outputs": [],
   "source": [
    "##Show all Columns\n",
    "pd.set_option('display.max_columns', 999)"
   ]
  },
  {
   "cell_type": "code",
   "execution_count": 48,
   "metadata": {},
   "outputs": [],
   "source": [
    "##Filtering by Medical Purpose\n",
    "data20=data18.loc[data18['purpose']=='medical']"
   ]
  },
  {
   "cell_type": "code",
   "execution_count": 40,
   "metadata": {},
   "outputs": [],
   "source": [
    "##Removing Unnecessary Variables\n",
    "data18 = data18.drop([\"settlement_term\", \"settlement_percentage\", \"settlement_amount\",\"settlement_date\",\n",
    "                   \"settlement_status\",\"debt_settlement_flag_date\",\"debt_settlement_flag\",\"disbursement_method\",\n",
    "                  \"hardship_last_payment_amount\",\"hardship_payoff_balance_amount\",\"orig_projected_additional_accrued_interest\",\n",
    "                  \"hardship_loan_status\", \"hardship_dpd\",\"hardship_length\",\"payment_plan_start_date\",\n",
    "                  \"hardship_end_date\", \"hardship_start_date\",\"hardship_amount\",\"deferral_term\",\"hardship_status\",\n",
    "                  \"hardship_reason\",\"hardship_type\",\"hardship_flag\",\"sec_app_mths_since_last_major_derog\",\"sec_app_collections_12_mths_ex_med\",\n",
    "                  \"sec_app_chargeoff_within_12_mths\"], axis=1)"
   ]
  },
  {
   "cell_type": "code",
   "execution_count": null,
   "metadata": {},
   "outputs": [],
   "source": []
  },
  {
   "cell_type": "code",
   "execution_count": 39,
   "metadata": {},
   "outputs": [],
   "source": [
    "##Filtering Dataset by Issue Date December of 2018\n",
    "data18=data1.loc[data1['issue_d']=='Dec-2018']"
   ]
  },
  {
   "cell_type": "code",
   "execution_count": 50,
   "metadata": {},
   "outputs": [],
   "source": [
    "##Loading External Dataset\n",
    "datat=pd.read_csv(\"./Documents/Data_Science_I/Assignments/Final/TEST1.csv\")"
   ]
  },
  {
   "cell_type": "code",
   "execution_count": 52,
   "metadata": {},
   "outputs": [],
   "source": [
    "##Mean Household Income for State\n",
    "avghis=datat.groupby('State_ab')['Mean'].describe()\n"
   ]
  },
  {
   "cell_type": "code",
   "execution_count": 53,
   "metadata": {},
   "outputs": [],
   "source": [
    "##Merging on State\n",
    "merged=pd.merge(data18, avghis, left_on=\"addr_state\", right_on=\"State_ab\")"
   ]
  },
  {
   "cell_type": "code",
   "execution_count": 64,
   "metadata": {},
   "outputs": [],
   "source": [
    "##Show all Columns\n",
    "pd.set_option('display.max_columns', 999)\n"
   ]
  },
  {
   "cell_type": "code",
   "execution_count": null,
   "metadata": {},
   "outputs": [],
   "source": []
  },
  {
   "cell_type": "code",
   "execution_count": null,
   "metadata": {},
   "outputs": [],
   "source": []
  },
  {
   "cell_type": "code",
   "execution_count": null,
   "metadata": {},
   "outputs": [],
   "source": []
  },
  {
   "cell_type": "code",
   "execution_count": null,
   "metadata": {},
   "outputs": [],
   "source": []
  },
  {
   "cell_type": "markdown",
   "metadata": {},
   "source": [
    "git hub repo:https://github.com/matthewm725/Final_Project.git"
   ]
  },
  {
   "cell_type": "code",
   "execution_count": null,
   "metadata": {},
   "outputs": [],
   "source": []
  },
  {
   "cell_type": "code",
   "execution_count": null,
   "metadata": {},
   "outputs": [],
   "source": []
  },
  {
   "cell_type": "markdown",
   "metadata": {},
   "source": []
  },
  {
   "cell_type": "markdown",
   "metadata": {},
   "source": []
  },
  {
   "cell_type": "code",
   "execution_count": null,
   "metadata": {},
   "outputs": [],
   "source": []
  },
  {
   "cell_type": "markdown",
   "metadata": {},
   "source": []
  },
  {
   "cell_type": "raw",
   "metadata": {},
   "source": []
  }
 ],
 "metadata": {
  "kernelspec": {
   "display_name": "Python 3",
   "language": "python",
   "name": "python3"
  },
  "language_info": {
   "codemirror_mode": {
    "name": "ipython",
    "version": 3
   },
   "file_extension": ".py",
   "mimetype": "text/x-python",
   "name": "python",
   "nbconvert_exporter": "python",
   "pygments_lexer": "ipython3",
   "version": "3.7.4"
  }
 },
 "nbformat": 4,
 "nbformat_minor": 2
}
